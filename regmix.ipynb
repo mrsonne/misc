{
 "cells": [
  {
   "cell_type": "code",
   "execution_count": 1,
   "metadata": {},
   "outputs": [
    {
     "name": "stderr",
     "output_type": "stream",
     "text": [
      "WARNING (theano.tensor.blas): Using NumPy C-API based implementation for BLAS functions.\n"
     ]
    }
   ],
   "source": [
    "from typing import Optional\n",
    "import pickle\n",
    "import itertools\n",
    "\n",
    "import numpy as np\n",
    "from scipy.optimize import curve_fit\n",
    "import matplotlib.pyplot as plt\n",
    "import pymc3 as pm\n",
    "import pymc3.distributions.transforms as tr\n",
    "import seaborn as sns\n",
    "from sklearn.mixture import GaussianMixture, BayesianGaussianMixture\n",
    "from pathlib import Path\n",
    "\n",
    "import matplotlib.colors as mcolors\n",
    "from matplotlib.cm import get_cmap\n",
    "import theano.tensor as tt\n",
    "import arviz as az\n",
    "import statsmodels.api as sm"
   ]
  },
  {
   "cell_type": "code",
   "execution_count": 2,
   "metadata": {},
   "outputs": [],
   "source": [
    "THIS_PATH = Path.cwd()\n",
    "TMP_PATH = THIS_PATH.joinpath(\"tmp\")\n",
    "TMP_PATH.mkdir(parents=True, exist_ok=True)\n",
    "RESULTS_PATH = THIS_PATH.joinpath(\"results\")\n",
    "RESULTS_PATH.mkdir(parents=True, exist_ok=True)\n",
    "NORMAL_FONTSIZE = 20\n",
    "RANDOM_SEED = 17\n",
    "CMAP_NAME = \"tab10\""
   ]
  },
  {
   "cell_type": "code",
   "execution_count": 3,
   "metadata": {},
   "outputs": [],
   "source": [
    "def make_data():\n",
    "    np.random.seed(123)\n",
    "    b0 = 0\n",
    "    sigma = 2\n",
    "    b1 = [-5, 5]\n",
    "    # size = 250\n",
    "    size1 = 25\n",
    "    size2 = 35\n",
    "    size = size1 + size2\n",
    "\n",
    "    print(\"Number of data points\", size1 + size2)\n",
    "    print(f\"Weight cmp1: {size1 / size:.2f}\" )\n",
    "    print(f\"Weight cmp2: {size2 / size:.2f}\")\n",
    "\n",
    "    # Predictor variable\n",
    "    # X1_1 = np.random.randn(size)\n",
    "    X1_1 = np.linspace(-2, 2, size1)\n",
    "\n",
    "    # Simulate outcome variable--cluster 1\n",
    "    Y1 = b0 + b1[0] * X1_1 + np.random.normal(loc=0, scale=sigma, size=size1)\n",
    "\n",
    "    # Predictor variable\n",
    "    # X1_2 = np.random.randn(size)\n",
    "    X1_2 = np.linspace(-3, 3, size2)\n",
    "    # Simulate outcome variable --cluster 2\n",
    "    Y2 = b0 + b1[1] * X1_2 + np.random.normal(loc=0, scale=sigma, size=size2)\n",
    "\n",
    "    return b0, b1, sigma, X1_1, X1_2, Y1, Y2\n"
   ]
  },
  {
   "cell_type": "code",
   "execution_count": 4,
   "metadata": {},
   "outputs": [
    {
     "name": "stdout",
     "output_type": "stream",
     "text": [
      "Number of data points 60\n",
      "Weight cmp1: 0.42\n",
      "Weight cmp2: 0.58\n"
     ]
    }
   ],
   "source": [
    "b0, b1, sigma, x1, x2, y1, y2 = make_data()\n",
    "\n",
    "# joint data set with anonymous classes\n",
    "x = np.append(x1, x2)\n",
    "y = np.append(y1, y2)\n"
   ]
  }
 ],
 "metadata": {
  "kernelspec": {
   "display_name": "misc-VgmIW_Et",
   "language": "python",
   "name": "python3"
  },
  "language_info": {
   "codemirror_mode": {
    "name": "ipython",
    "version": 3
   },
   "file_extension": ".py",
   "mimetype": "text/x-python",
   "name": "python",
   "nbconvert_exporter": "python",
   "pygments_lexer": "ipython3",
   "version": "3.8.10"
  },
  "orig_nbformat": 4,
  "vscode": {
   "interpreter": {
    "hash": "d3d864ed114d858824052a0161bbe9d160505389b25ecf0304ef2c16b04fab92"
   }
  }
 },
 "nbformat": 4,
 "nbformat_minor": 2
}
